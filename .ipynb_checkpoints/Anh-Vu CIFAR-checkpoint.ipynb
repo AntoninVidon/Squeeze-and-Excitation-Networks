{
 "cells": [
  {
   "cell_type": "code",
   "execution_count": 2,
   "id": "405d9804",
   "metadata": {},
   "outputs": [
    {
     "name": "stdout",
     "output_type": "stream",
     "text": [
      "['/device:CPU:0', '/device:GPU:0']\n"
     ]
    }
   ],
   "source": [
    "import os\n",
    "import pandas as pd\n",
    "import numpy as np\n",
    "from PIL import Image\n",
    "import tensorflow as tf\n",
    "import tensorflow.keras as keras\n",
    "from tensorflow.python.client import device_lib\n",
    "def get_available_devices():\n",
    "    local_device_protos = device_lib.list_local_devices()\n",
    "    return [x.name for x in local_device_protos]\n",
    "print(get_available_devices()) "
   ]
  },
  {
   "cell_type": "code",
   "execution_count": 1,
   "id": "2f28e5d1",
   "metadata": {},
   "outputs": [],
   "source": [
    "from tensorflow.compat.v1 import ConfigProto\n",
    "from tensorflow.compat.v1 import InteractiveSession\n",
    "config = ConfigProto()\n",
    "config.gpu_options.allow_growth = True\n",
    "session = InteractiveSession(config=config)"
   ]
  },
  {
   "cell_type": "code",
   "execution_count": 30,
   "id": "47dbbeed",
   "metadata": {},
   "outputs": [],
   "source": [
    "#load cifar-10 dataset\n",
    "(x_train, y_train), (x_test, y_test) = keras.datasets.cifar10.load_data()\n",
    "y_test=to_categorical(y_test, num_classes=10)\n"
   ]
  },
  {
   "cell_type": "code",
   "execution_count": 4,
   "id": "e72a6b30",
   "metadata": {},
   "outputs": [
    {
     "data": {
      "text/plain": [
       "(48000, 10)"
      ]
     },
     "execution_count": 4,
     "metadata": {},
     "output_type": "execute_result"
    }
   ],
   "source": [
    "from tensorflow.keras.utils import to_categorical  \n",
    "\n",
    "#shuffle data and split data to generate validation data\n",
    "shuffler = np.random.permutation(len(x_train))\n",
    "x_train = x_train[shuffler]\n",
    "y_train = y_train[shuffler]\n",
    " \n",
    "\n",
    "#validation data\n",
    "x_val=x_train[0:2000]\n",
    "y_val=to_categorical(y_train[0:2000], num_classes=10)\n",
    "\n",
    "x_train=x_train[2000:]\n",
    "y_train=to_categorical(y_train[2000:], num_classes=10)\n",
    "\n",
    "y_train.shape"
   ]
  },
  {
   "cell_type": "code",
   "execution_count": 5,
   "id": "b0a5ce50",
   "metadata": {},
   "outputs": [],
   "source": [
    "from tensorflow.keras.applications.resnet50 import ResNet50\n",
    "resnet50 = ResNet50( include_top=False, weights=None)\n",
    "preprocess_input =tf.keras.applications.resnet_v2.preprocess_input"
   ]
  },
  {
   "cell_type": "code",
   "execution_count": 6,
   "id": "d4ccd8c4",
   "metadata": {},
   "outputs": [
    {
     "name": "stdout",
     "output_type": "stream",
     "text": [
      "Model: \"model\"\n",
      "_________________________________________________________________\n",
      "Layer (type)                 Output Shape              Param #   \n",
      "=================================================================\n",
      "input_2 (InputLayer)         [(None, 32, 32, 3)]       0         \n",
      "_________________________________________________________________\n",
      "tf.math.truediv (TFOpLambda) (None, 32, 32, 3)         0         \n",
      "_________________________________________________________________\n",
      "tf.math.subtract (TFOpLambda (None, 32, 32, 3)         0         \n",
      "_________________________________________________________________\n",
      "resnet50 (Functional)        (None, None, None, 2048)  23587712  \n",
      "_________________________________________________________________\n",
      "global_average_pooling2d (Gl (None, 2048)              0         \n",
      "_________________________________________________________________\n",
      "dense (Dense)                (None, 10)                20490     \n",
      "=================================================================\n",
      "Total params: 23,608,202\n",
      "Trainable params: 23,555,082\n",
      "Non-trainable params: 53,120\n",
      "_________________________________________________________________\n"
     ]
    }
   ],
   "source": [
    "from tensorflow.keras.models import Model\n",
    "from tensorflow.python.keras.layers import Dense, GlobalAveragePooling2D\n",
    "\n",
    "#input\n",
    "inputs = tf.keras.Input(shape=(32, 32, 3))\n",
    "# Preprocess for ResNet50 input size\n",
    "x = preprocess_input(inputs)\n",
    "# ResNet50\n",
    "x = resnet50(x)\n",
    "# Add top layer again\n",
    "x=GlobalAveragePooling2D()(x)\n",
    "#10 classes for cifar 10\n",
    "preds=Dense(10,activation='softmax')(x)\n",
    "resnet50_cifar10=Model(inputs=inputs,outputs=preds)\n",
    "resnet50_cifar10.summary()\n"
   ]
  },
  {
   "cell_type": "code",
   "execution_count": 10,
   "id": "492e325c",
   "metadata": {},
   "outputs": [],
   "source": [
    "base_learning_rate = 0.0001\n",
    "batch_size=64\n",
    "epochs=6\n",
    "\n",
    "resnet50_cifar10.compile(optimizer=tf.keras.optimizers.Adam(learning_rate=base_learning_rate),loss='categorical_crossentropy', metrics = ['acc'])\n",
    "history=resnet50_cifar10.fit(x=x_train, y=y_train,\n",
    "                   batch_size = batch_size,\n",
    "                   epochs = epochs,\n",
    "                   validation_data=(x_val, y_val))"
   ]
  },
  {
   "cell_type": "code",
   "execution_count": 11,
   "id": "5f169507",
   "metadata": {},
   "outputs": [
    {
     "name": "stdout",
     "output_type": "stream",
     "text": [
      "Epoch 1/6\n",
      "750/750 [==============================] - 49s 51ms/step - loss: 1.5162 - acc: 0.4579 - val_loss: 1.3253 - val_acc: 0.5155\n",
      "Epoch 2/6\n",
      "750/750 [==============================] - 33s 44ms/step - loss: 1.3501 - acc: 0.5120 - val_loss: 1.2068 - val_acc: 0.5585\n",
      "Epoch 3/6\n",
      "750/750 [==============================] - 33s 44ms/step - loss: 1.2331 - acc: 0.5589 - val_loss: 1.1478 - val_acc: 0.5720\n",
      "Epoch 4/6\n",
      "750/750 [==============================] - 34s 45ms/step - loss: 1.1599 - acc: 0.5915 - val_loss: 1.2302 - val_acc: 0.5750\n",
      "Epoch 5/6\n",
      "750/750 [==============================] - 34s 46ms/step - loss: 1.0982 - acc: 0.6095 - val_loss: 1.0242 - val_acc: 0.6400\n",
      "Epoch 6/6\n",
      "750/750 [==============================] - 35s 46ms/step - loss: 1.0169 - acc: 0.6386 - val_loss: 1.2287 - val_acc: 0.6295\n"
     ]
    }
   ],
   "source": [
    "#same with data augmentation\n",
    "from tensorflow.keras.preprocessing.image import ImageDataGenerator\n",
    "resnet50_cifar10.compile(optimizer=tf.keras.optimizers.Adam(learning_rate=base_learning_rate),loss='categorical_crossentropy', metrics = ['acc'])\n",
    "train_datagen = ImageDataGenerator(\n",
    "        horizontal_flip=True,\n",
    "        width_shift_range=4, #+-4 pixel shift max\n",
    "        height_shift_range=4,#+-4 pixel shift max\n",
    "        cval=0, #zero padding\n",
    "        fill_mode='constant' #zero padding\n",
    "        )\n",
    "\n",
    "train_generator = train_datagen.flow(x_train, y_train, batch_size=batch_size)\n",
    "step_size_train=train_generator.n//train_generator.batch_size\n",
    "\n",
    "history=resnet50_cifar10.fit(train_generator,\n",
    "                   steps_per_epoch = step_size_train,\n",
    "                   epochs = epochs,\n",
    "                   validation_data=(x_val, y_val))"
   ]
  },
  {
   "cell_type": "code",
   "execution_count": 40,
   "id": "27c6cf48",
   "metadata": {},
   "outputs": [],
   "source": [
    "#Alternatively\n",
    "#from tf.keras.metrics import top_k_categorical_accuracy\n",
    "def top_n_acc(pred, targets,n=1):\n",
    "    acc=np.mean(tf.keras.metrics.top_k_categorical_accuracy(targets, pred, k=n).numpy())\n",
    "    print(\"top\",n,'accuracy:',acc,sep=' ')\n",
    "    return acc\n",
    "\n",
    "\n",
    "preds=resnet50_cifar10.predict(x_test)\n",
    "\n"
   ]
  },
  {
   "cell_type": "code",
   "execution_count": 42,
   "id": "d9e00f47",
   "metadata": {},
   "outputs": [
    {
     "name": "stdout",
     "output_type": "stream",
     "text": [
      "top 1 accuracy: 0.6245\n"
     ]
    },
    {
     "data": {
      "text/plain": [
       "0.6245"
      ]
     },
     "execution_count": 42,
     "metadata": {},
     "output_type": "execute_result"
    }
   ],
   "source": [
    "top_n_acc(preds,y_test,1)"
   ]
  },
  {
   "cell_type": "code",
   "execution_count": 39,
   "id": "9ed3f9ba",
   "metadata": {},
   "outputs": [
    {
     "data": {
      "text/plain": [
       "0.9708"
      ]
     },
     "execution_count": 39,
     "metadata": {},
     "output_type": "execute_result"
    }
   ],
   "source": [
    "np.mean(m.numpy())"
   ]
  }
 ],
 "metadata": {
  "kernelspec": {
   "display_name": "Python 3 (ipykernel)",
   "language": "python",
   "name": "python3"
  },
  "language_info": {
   "codemirror_mode": {
    "name": "ipython",
    "version": 3
   },
   "file_extension": ".py",
   "mimetype": "text/x-python",
   "name": "python",
   "nbconvert_exporter": "python",
   "pygments_lexer": "ipython3",
   "version": "3.7.11"
  }
 },
 "nbformat": 4,
 "nbformat_minor": 5
}
