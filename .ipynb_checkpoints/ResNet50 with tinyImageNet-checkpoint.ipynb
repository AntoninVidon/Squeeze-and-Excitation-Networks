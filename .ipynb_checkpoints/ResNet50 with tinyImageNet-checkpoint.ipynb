{
 "cells": [
  {
   "cell_type": "markdown",
   "id": "eb541af4",
   "metadata": {},
   "source": [
    "The dataset Tiny ImageNet has to be in the 'data/' folder"
   ]
  },
  {
   "cell_type": "markdown",
   "id": "973f2234",
   "metadata": {},
   "source": [
    "Instruction to download and extract the data:\n",
    "\n",
    "wget http://cs231n.stanford.edu/tiny-imagenet-200.zip\n",
    "\n",
    "unzip tiny-imagenet-200.zip\n",
    "\n",
    "rm tiny-imagenet-200.zip"
   ]
  },
  {
   "cell_type": "code",
   "execution_count": 1,
   "id": "f9913ace",
   "metadata": {},
   "outputs": [
    {
     "name": "stdout",
     "output_type": "stream",
     "text": [
      "['/device:CPU:0', '/device:GPU:0']\n"
     ]
    }
   ],
   "source": [
    "%matplotlib inline\n",
    "%load_ext autoreload\n",
    "%autoreload 2\n",
    "import tensorflow as tf\n",
    "from tensorflow.keras.models import Model\n",
    "from tensorflow.compat.v1 import ConfigProto\n",
    "from tensorflow.compat.v1 import InteractiveSession\n",
    "\n",
    "config = ConfigProto()\n",
    "config.gpu_options.allow_growth = True\n",
    "session = InteractiveSession(config=config)\n",
    "from tensorflow.python.client import device_lib\n",
    "def get_available_devices():\n",
    "    local_device_protos = device_lib.list_local_devices()\n",
    "    return [x.name for x in local_device_protos]\n",
    "print(get_available_devices()) \n",
    "\n",
    "import os\n",
    "import pandas as pd\n",
    "import numpy as np\n",
    "from PIL import Image\n",
    "import matplotlib.pyplot as plt\n"
   ]
  },
  {
   "cell_type": "markdown",
   "id": "e1ac925a",
   "metadata": {},
   "source": [
    "# 0. Loading the data"
   ]
  },
  {
   "cell_type": "markdown",
   "id": "e0c35132",
   "metadata": {},
   "source": [
    "### TinyImageNet does not have labels for the testing data. We will use the 10k validation images for the testing data."
   ]
  },
  {
   "cell_type": "code",
   "execution_count": 2,
   "id": "513cdce2",
   "metadata": {},
   "outputs": [
    {
     "name": "stdout",
     "output_type": "stream",
     "text": [
      "497 pictures in folder n03617480\n",
      "499 pictures in folder n09332890\n",
      "499 pictures in folder n01917289\n",
      "497 pictures in folder n04398044\n",
      "496 pictures in folder n03977966\n",
      "491 pictures in folder n04486054\n",
      "485 pictures in folder n02481823\n",
      "499 pictures in folder n01910747\n",
      "500 pictures in folder n01443537\n",
      "495 pictures in folder n02823428\n",
      "497 pictures in folder n04254777\n",
      "487 pictures in folder n03837869\n",
      "500 pictures in folder n07695742\n",
      "493 pictures in folder n03983396\n",
      "500 pictures in folder n04597913\n",
      "495 pictures in folder n02395406\n",
      "500 pictures in folder n02132136\n",
      "492 pictures in folder n04259630\n",
      "500 pictures in folder n02279972\n",
      "493 pictures in folder n04371430\n",
      "500 pictures in folder n03980874\n",
      "454 pictures in folder n03763968\n",
      "499 pictures in folder n07768694\n",
      "497 pictures in folder n02948072\n",
      "497 pictures in folder n02231487\n",
      "497 pictures in folder n02206856\n",
      "494 pictures in folder n09428293\n",
      "498 pictures in folder n03100240\n",
      "473 pictures in folder n04532670\n",
      "495 pictures in folder n01944390\n",
      "495 pictures in folder n02099712\n",
      "491 pictures in folder n03733131\n",
      "500 pictures in folder n07579787\n",
      "500 pictures in folder n01983481\n",
      "499 pictures in folder n02415577\n",
      "500 pictures in folder n03662601\n",
      "496 pictures in folder n01698640\n",
      "497 pictures in folder n01774384\n",
      "465 pictures in folder n04356056\n",
      "466 pictures in folder n03388043\n",
      "481 pictures in folder n03599486\n",
      "485 pictures in folder n04399382\n",
      "495 pictures in folder n02233338\n",
      "480 pictures in folder n03404251\n",
      "498 pictures in folder n04251144\n",
      "491 pictures in folder n02808440\n",
      "485 pictures in folder n02814860\n",
      "498 pictures in folder n02058221\n",
      "491 pictures in folder n02906734\n",
      "471 pictures in folder n04376876\n",
      "498 pictures in folder n03796401\n",
      "499 pictures in folder n03089624\n",
      "473 pictures in folder n03891332\n",
      "500 pictures in folder n09256479\n",
      "495 pictures in folder n04070727\n",
      "490 pictures in folder n03970156\n",
      "494 pictures in folder n02815834\n",
      "498 pictures in folder n04456115\n",
      "480 pictures in folder n03126707\n",
      "483 pictures in folder n03160309\n",
      "500 pictures in folder n02730930\n",
      "480 pictures in folder n04023962\n",
      "491 pictures in folder n02113799\n",
      "496 pictures in folder n03706229\n",
      "477 pictures in folder n04507155\n",
      "500 pictures in folder n07734744\n",
      "500 pictures in folder n02226429\n",
      "500 pictures in folder n01984695\n",
      "497 pictures in folder n02125311\n",
      "489 pictures in folder n03584254\n",
      "500 pictures in folder n01950731\n",
      "499 pictures in folder n02268443\n",
      "496 pictures in folder n03444034\n",
      "496 pictures in folder n02364673\n",
      "473 pictures in folder n04366367\n",
      "500 pictures in folder n07875152\n",
      "498 pictures in folder n02074367\n",
      "497 pictures in folder n03014705\n",
      "494 pictures in folder n03854065\n",
      "497 pictures in folder n02699494\n",
      "494 pictures in folder n09193705\n",
      "484 pictures in folder n04275548\n",
      "494 pictures in folder n03042490\n",
      "485 pictures in folder n04008634\n",
      "496 pictures in folder n12267677\n",
      "479 pictures in folder n03255030\n",
      "500 pictures in folder n07583066\n",
      "467 pictures in folder n03930313\n",
      "492 pictures in folder n04560804\n",
      "494 pictures in folder n02099601\n",
      "479 pictures in folder n04074963\n",
      "499 pictures in folder n04118538\n",
      "500 pictures in folder n07614500\n",
      "494 pictures in folder n02988304\n",
      "500 pictures in folder n01629819\n",
      "498 pictures in folder n01855672\n",
      "495 pictures in folder n02486410\n",
      "498 pictures in folder n01644900\n",
      "473 pictures in folder n04311004\n",
      "474 pictures in folder n02837789\n",
      "500 pictures in folder n07747607\n",
      "486 pictures in folder n02843684\n",
      "488 pictures in folder n03937543\n",
      "494 pictures in folder n02410509\n",
      "481 pictures in folder n04067472\n",
      "500 pictures in folder n01641577\n",
      "500 pictures in folder n07873807\n",
      "496 pictures in folder n03355925\n",
      "492 pictures in folder n02123394\n",
      "497 pictures in folder n01945685\n",
      "497 pictures in folder n02802426\n",
      "453 pictures in folder n02791270\n",
      "498 pictures in folder n02769748\n",
      "500 pictures in folder n02963159\n",
      "499 pictures in folder n01742172\n",
      "474 pictures in folder n04179913\n",
      "497 pictures in folder n02927161\n",
      "493 pictures in folder n02977058\n",
      "485 pictures in folder n03976657\n",
      "498 pictures in folder n04146614\n",
      "500 pictures in folder n04532106\n",
      "493 pictures in folder n02403003\n",
      "492 pictures in folder n03670208\n",
      "492 pictures in folder n01768244\n",
      "473 pictures in folder n04562935\n",
      "499 pictures in folder n02509815\n",
      "494 pictures in folder n04487081\n",
      "499 pictures in folder n03026506\n",
      "499 pictures in folder n02002724\n",
      "499 pictures in folder n03393912\n",
      "495 pictures in folder n03770439\n",
      "474 pictures in folder n03992509\n",
      "468 pictures in folder n03804744\n",
      "491 pictures in folder n03814639\n",
      "497 pictures in folder n01770393\n",
      "500 pictures in folder n02056570\n",
      "497 pictures in folder n02094433\n",
      "498 pictures in folder n07920052\n",
      "497 pictures in folder n02085620\n",
      "499 pictures in folder n07720875\n",
      "495 pictures in folder n03400231\n",
      "492 pictures in folder n02892201\n",
      "496 pictures in folder n02504458\n",
      "480 pictures in folder n03424325\n",
      "479 pictures in folder n02950826\n",
      "497 pictures in folder n04149813\n",
      "452 pictures in folder n03544143\n",
      "496 pictures in folder n02423022\n",
      "482 pictures in folder n04328186\n",
      "474 pictures in folder n03250847\n",
      "491 pictures in folder n02814533\n",
      "491 pictures in folder n02480495\n",
      "477 pictures in folder n03902125\n",
      "471 pictures in folder n02841315\n",
      "481 pictures in folder n02793495\n",
      "497 pictures in folder n02190166\n",
      "466 pictures in folder n03085013\n",
      "500 pictures in folder n07871810\n",
      "460 pictures in folder n02883205\n",
      "488 pictures in folder n04417672\n",
      "484 pictures in folder n03637318\n",
      "500 pictures in folder n01784675\n",
      "465 pictures in folder n02788148\n",
      "473 pictures in folder n04501370\n",
      "488 pictures in folder n02909870\n",
      "492 pictures in folder n02106662\n",
      "499 pictures in folder n07749582\n",
      "499 pictures in folder n02236044\n",
      "500 pictures in folder n02281406\n",
      "463 pictures in folder n03838899\n",
      "485 pictures in folder n04099969\n",
      "495 pictures in folder n04285008\n",
      "488 pictures in folder n02669723\n",
      "492 pictures in folder n02666196\n",
      "493 pictures in folder n07753592\n",
      "498 pictures in folder n07615774\n",
      "480 pictures in folder n04465501\n",
      "484 pictures in folder n02795169\n",
      "492 pictures in folder n02917067\n",
      "495 pictures in folder n04133789\n",
      "495 pictures in folder n01774750\n",
      "499 pictures in folder n01882714\n",
      "495 pictures in folder n03649909\n",
      "500 pictures in folder n02321529\n",
      "497 pictures in folder n06596364\n",
      "492 pictures in folder n02123045\n",
      "492 pictures in folder n02124075\n",
      "493 pictures in folder n02129165\n",
      "500 pictures in folder n02165456\n",
      "496 pictures in folder n09246464\n",
      "500 pictures in folder n07711569\n",
      "490 pictures in folder n04265275\n",
      "497 pictures in folder n07715103\n",
      "493 pictures in folder n03179701\n",
      "480 pictures in folder n03447447\n",
      "494 pictures in folder n04596742\n",
      "500 pictures in folder n03201208\n",
      "472 pictures in folder n02999410\n",
      "498 pictures in folder n02437312\n",
      "494 pictures in folder n04540053\n"
     ]
    }
   ],
   "source": [
    "#Generate dataset\n",
    "\n",
    "###### TRAINING DATA #######\n",
    "#Load Training images and labels\n",
    "train_directory = \"./data/tiny-imagenet-200/train\" \n",
    "image_list=[]\n",
    "label_list=[]\n",
    "\n",
    "label_dic={} #convert label str to int from 0 \n",
    "\n",
    "\n",
    "\n",
    "for l,sub_dir in enumerate(os.listdir(train_directory)):\n",
    "    if not sub_dir in label_dic:\n",
    "        label_dic[sub_dir]=l\n",
    "    sub_dir_name=os.path.join(train_directory,sub_dir,'images')\n",
    "    n=0\n",
    "    for file in os.listdir(sub_dir_name):\n",
    "        filename = os.fsdecode(file)\n",
    "        if filename.endswith(\".JPEG\")  or filename.endswith(\".jpg\") or filename.endswith(\".png\"):\n",
    "            img=np.array(Image.open(os.path.join(sub_dir_name,file)))\n",
    "            if(img.shape == (64, 64, 3)): #removing images without 3 channels\n",
    "                image_list.append(img)\n",
    "                label_list.append(int(label_dic[sub_dir]))\n",
    "                n+=1\n",
    "    print(n,'pictures in folder',sub_dir,sep=' ' )\n",
    "            \n",
    "X_tot=np.array(image_list)\n",
    "y_tot=np.array(label_list)\n",
    "\n",
    "###### TEST DATA #######\n",
    "\n",
    "#getting the labels from the txt file\n",
    "df = pd.read_table('./data/tiny-imagenet-200/val/val_annotations.txt', header=None)\n",
    "test_labels={} \n",
    "for index, row in df.iterrows():\n",
    "    test_labels[str(row[0])]= row[1]\n",
    "\n",
    "\n",
    "test_directory = \"./data/tiny-imagenet-200/val/images\" \n",
    "\n",
    "test_image_list=[]\n",
    "test_label_list=[]\n",
    "\n",
    "for file in os.listdir(test_directory):\n",
    "    filename = os.fsdecode(file)\n",
    "  \n",
    "    if filename.endswith(\".JPEG\")  or filename.endswith(\".jpg\") or filename.endswith(\".png\"):\n",
    "        img=np.array(Image.open(os.path.join(test_directory,file)))\n",
    "        if(img.shape == (64, 64, 3)): #removing images without 3 channels\n",
    "            test_image_list.append(img)\n",
    "            test_label_list.append(label_dic[test_labels[filename]])\n",
    "            \n",
    "X_test=np.array(test_image_list)\n",
    "y_test=tf.keras.utils.to_categorical(np.array(test_label_list))"
   ]
  },
  {
   "cell_type": "code",
   "execution_count": 3,
   "id": "1df1e044",
   "metadata": {},
   "outputs": [
    {
     "name": "stdout",
     "output_type": "stream",
     "text": [
      "test data:\n",
      "(9832, 64, 64, 3)\n",
      "(9832, 200)\n",
      "train data:\n",
      "(93179, 64, 64, 3)\n",
      "(93179, 200)\n",
      "val data:\n",
      "(5000, 64, 64, 3)\n",
      "(5000, 200)\n"
     ]
    }
   ],
   "source": [
    "shuffler=np.random.RandomState(seed=10).permutation(len(X_tot))\n",
    "X_tot = X_tot[shuffler]\n",
    "y_tot = y_tot[shuffler]\n",
    "y_tot=tf.keras.utils.to_categorical(y_tot)\n",
    "\n",
    "X_train = X_tot[5000:]\n",
    "y_train =  y_tot[5000:]\n",
    "X_val = X_tot[:5000]\n",
    "y_val =  y_tot[:5000]\n",
    "\n",
    "\n",
    "print('test data:')\n",
    "print(X_test.shape)\n",
    "print(y_test.shape)\n",
    "\n",
    "print('train data:')\n",
    "print(X_train.shape)\n",
    "print(y_train.shape)\n",
    "\n",
    "print('val data:')\n",
    "print(X_val.shape)\n",
    "print(y_val.shape)"
   ]
  },
  {
   "cell_type": "markdown",
   "id": "988f0b69",
   "metadata": {},
   "source": [
    "#### Saving the variables allows faster loading in the future"
   ]
  },
  {
   "cell_type": "code",
   "execution_count": 4,
   "id": "a04ce48b",
   "metadata": {},
   "outputs": [],
   "source": [
    "#save for future use without having to reload from the images folders\n",
    "np.save('data/X_test.npy', X_test)\n",
    "np.save('data/y_test.npy', y_test)\n",
    "np.save('data/X_train.npy', X_train)\n",
    "np.save('data/y_train.npy', y_train)\n",
    "np.save('data/X_val.npy', X_val)\n",
    "np.save('data/y_val.npy', y_val) \n",
    "\n"
   ]
  },
  {
   "cell_type": "code",
   "execution_count": 2,
   "id": "954ab98f",
   "metadata": {},
   "outputs": [
    {
     "name": "stdout",
     "output_type": "stream",
     "text": [
      "script running in /home/ecbm4040/envTF24/e4040-2021fall-project-fren-an3078-wab2138-av3023\n"
     ]
    }
   ],
   "source": [
    "print('script running in '+os.path.abspath(\".\"))\n",
    "X_test = np.load('./data/X_test.npy')\n",
    "y_test = np.load('./data/y_test.npy')\n",
    "X_train = np.load('./data/X_train.npy')\n",
    "y_train = np.load('./data/y_train.npy')\n",
    "X_val = np.load('./data/X_val.npy')\n",
    "y_val = np.load('./data/y_val.npy')"
   ]
  },
  {
   "cell_type": "markdown",
   "id": "4215a9fd",
   "metadata": {},
   "source": [
    "## 3.1 Resnet50 without data augmentation"
   ]
  },
  {
   "cell_type": "code",
   "execution_count": null,
   "id": "e2998d25",
   "metadata": {},
   "outputs": [],
   "source": [
    "from utils.custom_resnet import custom_resnet50\n",
    "from utils.train_TinyImageNet_SE_ResNet import tinyImageNet_resnet_train\n",
    "# tinyImageNet_resnet_train(model,path,X_train,y_train,X_val,y_val,data_aug=False,learning_rate=0.6,steps=14,epochs=45,batch_size=128,es_patience=8)\n",
    "resnet_50=custom_resnet50(input_shape=(64,64,3),n_classes=200)\n",
    "resnet_50.summary()"
   ]
  },
  {
   "cell_type": "code",
   "execution_count": null,
   "id": "b4b171ad",
   "metadata": {},
   "outputs": [],
   "source": [
    "hist_resnet_50= tinyImageNet_resnet_train(resnet_50,\n",
    "                          './models/tinyImageNet/resnet_50_best.hdf5', #path for weights of best model\n",
    "                          X_train,y_train,\n",
    "                          X_val,\n",
    "                          y_val,\n",
    "                          data_aug=False, #no data aug\n",
    "                          learning_rate=0.6, #starting learning rate\n",
    "                          steps=20, #number of epochs between learning rate modification (* 0.1)\n",
    "                          epochs=60,\n",
    "                          batch_size=128,\n",
    "                          es_patience=20) #early stopping"
   ]
  },
  {
   "cell_type": "code",
   "execution_count": null,
   "id": "82be3609",
   "metadata": {},
   "outputs": [],
   "source": [
    "from utils.train_TinyImageNet_SE_ResNet import plot_model\n",
    "plot_model(hist_resnet_50)"
   ]
  },
  {
   "cell_type": "code",
   "execution_count": null,
   "id": "3952a237",
   "metadata": {},
   "outputs": [],
   "source": [
    "# Evaluate the model\n",
    "# reload from saved weights:\n",
    "model = custom_resnet50(input_shape=(64,64,3),n_classes=200)\n",
    "model.load_weights('./models/tinyImageNet/resnet_50_best.hdf5')\n",
    "\n",
    "# Evaluate the model\n",
    "model.compile(loss='categorical_crossentropy', metrics = ['acc'])\n",
    "loss, acc = model.evaluate(X_test, y_test, verbose=2)\n",
    "print(\"best saved model, accuracy: {:5.2f}%\".format(100 * acc))\n",
    "\n",
    "from utils.evaluate_model import score\n",
    "score(model,X_test,y_test,[1,3,5])"
   ]
  },
  {
   "cell_type": "markdown",
   "id": "1ac0cb69",
   "metadata": {},
   "source": [
    "## 3.2 Resnet50 with data augmentation"
   ]
  },
  {
   "cell_type": "code",
   "execution_count": null,
   "id": "1dfd58e0",
   "metadata": {},
   "outputs": [],
   "source": [
    "from utils.train_TinyImageNet_SE_ResNet import tinyImageNet_resnet_train,plot_model\n",
    "from utils.custom_resnet import custom_resnet50\n",
    "\n",
    "resnet_50_aug=custom_resnet50(input_shape=(64,64,3),n_classes=200)\n",
    "path='./models/tinyImageNet/resnet_50_aug_best.hdf5'\n",
    "history_resnet_50_aug= tinyImageNet_resnet_train(resnet_50_aug,\n",
    "                          path, #path for weights of best model\n",
    "                          X_train,y_train,\n",
    "                          X_val,\n",
    "                          y_val,\n",
    "                          data_aug=True, #no data aug\n",
    "                          learning_rate=0.6, #starting learning rate\n",
    "                          steps=20, #number of epochs between learning rate modification (* 0.1)\n",
    "                          epochs=60,\n",
    "                          batch_size=128,\n",
    "                          es_patience=20) #early stopping"
   ]
  },
  {
   "cell_type": "code",
   "execution_count": null,
   "id": "7ed4fe59",
   "metadata": {},
   "outputs": [],
   "source": [
    "plot_model(history_resnet_50_aug)"
   ]
  },
  {
   "cell_type": "code",
   "execution_count": null,
   "id": "eb58365f",
   "metadata": {},
   "outputs": [],
   "source": [
    "# reload from saved weights:\n",
    "model = custom_resnet50(input_shape=(64,64,3),n_classes=200)\n",
    "model.load_weights(path)\n",
    "\n",
    "# Evaluate the model\n",
    "from utils.evaluate_model import score\n",
    "score(model,X_test,y_test,[1,3,5])"
   ]
  },
  {
   "cell_type": "markdown",
   "id": "4bdc434d",
   "metadata": {},
   "source": [
    "## 4.1 SE-ResNet50 without data augmentation"
   ]
  },
  {
   "cell_type": "code",
   "execution_count": null,
   "id": "859ccd9c",
   "metadata": {},
   "outputs": [],
   "source": [
    "from utils.SE_resnet import SE_resnet50\n",
    "\n",
    "SE_resnet50=SE_resnet50(input_shape=(64,64,3),n_classes=200,name='SE_resnet50')\n",
    "SE_resnet50.summary()"
   ]
  },
  {
   "cell_type": "code",
   "execution_count": null,
   "id": "d2d445f5",
   "metadata": {},
   "outputs": [],
   "source": [
    "path='./models/tinyImageNet/SE-resnet_50_best.hdf5'\n",
    "history_SEresnet_50= tinyImageNet_resnet_train(SE_resnet50,\n",
    "                          path, #path for weights of best model\n",
    "                          X_train,y_train,\n",
    "                          X_val,\n",
    "                          y_val,\n",
    "                          data_aug=False, #no data aug\n",
    "                          learning_rate=0.6, #starting learning rate\n",
    "                          steps=20, #number of epochs between learning rate modification (* 0.1)\n",
    "                          epochs=60,\n",
    "                          batch_size=128,\n",
    "                          es_patience=20) #early stopping"
   ]
  },
  {
   "cell_type": "code",
   "execution_count": null,
   "id": "3b83f713",
   "metadata": {},
   "outputs": [],
   "source": [
    "plot_model(history_SEresnet_50)"
   ]
  },
  {
   "cell_type": "code",
   "execution_count": null,
   "id": "f2fef5c0",
   "metadata": {},
   "outputs": [],
   "source": [
    "# reload from saved weights:\n",
    "from utils.SE_resnet import SE_resnet50\n",
    "model = SE_resnet50(input_shape=(64,64,3),n_classes=200,name='SE_resnet50')\n",
    "model.load_weights(path)\n",
    "\n",
    "# Evaluate the model\n",
    "from utils.evaluate_model import score\n",
    "score(model,X_test,y_test,[1,3,5])"
   ]
  },
  {
   "cell_type": "markdown",
   "id": "fa1cda17",
   "metadata": {},
   "source": [
    "## 4.2 SE-ResNet50 with data augmentation"
   ]
  },
  {
   "cell_type": "code",
   "execution_count": null,
   "id": "3b655c6b",
   "metadata": {},
   "outputs": [],
   "source": [
    "from utils.SE_resnet import SE_resnet50\n",
    "\n",
    "SE_resnet50_aug=SE_resnet50(input_shape=(64,64,3),n_classes=200,name='SE_resnet50_aug')\n",
    "\n",
    "path='./models/tinyImageNet/SE-resnet_50_aug_best.hdf5'\n",
    "history_SEresnet_50_aug= tinyImageNet_resnet_train(SE_resnet50_aug,\n",
    "                          path, #path for weights of best model\n",
    "                          X_train,y_train,\n",
    "                          X_val,\n",
    "                          y_val,\n",
    "                          data_aug=True, #no data aug\n",
    "                          learning_rate=0.6, #starting learning rate\n",
    "                          steps=20, #number of epochs between learning rate modification (* 0.1)\n",
    "                          epochs=60,\n",
    "                          batch_size=128,\n",
    "                          es_patience=20) #early stopping"
   ]
  },
  {
   "cell_type": "code",
   "execution_count": null,
   "id": "ec0a086b",
   "metadata": {},
   "outputs": [],
   "source": [
    "plot_model(history_SEresnet_50_aug)"
   ]
  },
  {
   "cell_type": "code",
   "execution_count": null,
   "id": "f6fe645b",
   "metadata": {},
   "outputs": [],
   "source": [
    "# reload from saved weights:\n",
    "from utils.SE_resnet import SE_resnet50\n",
    "model = SE_resnet50(input_shape=(64,64,3),n_classes=200,name='SE_resnet50_aug')\n",
    "model.load_weights(path)\n",
    "\n",
    "# Evaluate the model\n",
    "from utils.evaluate_model import score\n",
    "score(model,X_test,y_test,[1,3,5])"
   ]
  }
 ],
 "metadata": {
  "kernelspec": {
   "display_name": "Python 3",
   "language": "python",
   "name": "python3"
  },
  "language_info": {
   "codemirror_mode": {
    "name": "ipython",
    "version": 3
   },
   "file_extension": ".py",
   "mimetype": "text/x-python",
   "name": "python",
   "nbconvert_exporter": "python",
   "pygments_lexer": "ipython3",
   "version": "3.6.9"
  }
 },
 "nbformat": 4,
 "nbformat_minor": 5
}
