{
 "cells": [
  {
   "cell_type": "markdown",
   "id": "eb541af4",
   "metadata": {},
   "source": [
    "The dataset Tiny ImageNet has to be in the 'data/' folder"
   ]
  },
  {
   "cell_type": "markdown",
   "id": "973f2234",
   "metadata": {},
   "source": [
    "Instruction to download and extract the data:\n",
    "\n",
    "wget http://cs231n.stanford.edu/tiny-imagenet-200.zip\n",
    "\n",
    "unzip tiny-imagenet-200.zip\n",
    "\n",
    "rm tiny-imagenet-200.zip"
   ]
  },
  {
   "cell_type": "code",
   "execution_count": 1,
   "id": "f1b203b8",
   "metadata": {},
   "outputs": [
    {
     "name": "stdout",
     "output_type": "stream",
     "text": [
      "['/device:CPU:0', '/device:GPU:0']\n"
     ]
    }
   ],
   "source": [
    "import tensorflow as tf\n",
    "from tensorflow.keras.models import Model\n",
    "from tensorflow.compat.v1 import ConfigProto\n",
    "from tensorflow.compat.v1 import InteractiveSession\n",
    "\n",
    "config = ConfigProto()\n",
    "config.gpu_options.allow_growth = True\n",
    "session = InteractiveSession(config=config)\n",
    "from tensorflow.python.client import device_lib\n",
    "def get_available_devices():\n",
    "    local_device_protos = device_lib.list_local_devices()\n",
    "    return [x.name for x in local_device_protos]\n",
    "print(get_available_devices()) "
   ]
  },
  {
   "cell_type": "markdown",
   "id": "6cc89e97",
   "metadata": {},
   "source": [
    "### TinyImageNet does not have labels for the testing data. We will use the 10k validation images for the testing data."
   ]
  },
  {
   "cell_type": "code",
   "execution_count": 2,
   "id": "513cdce2",
   "metadata": {},
   "outputs": [
    {
     "ename": "FileNotFoundError",
     "evalue": "[WinError 3] The system cannot find the path specified: './data/tiny-imagenet-200/train'",
     "output_type": "error",
     "traceback": [
      "\u001b[1;31m---------------------------------------------------------------------------\u001b[0m",
      "\u001b[1;31mFileNotFoundError\u001b[0m                         Traceback (most recent call last)",
      "\u001b[1;32m~\\AppData\\Local\\Temp/ipykernel_22428/342995169.py\u001b[0m in \u001b[0;36m<module>\u001b[1;34m\u001b[0m\n\u001b[0;32m     15\u001b[0m \u001b[1;33m\u001b[0m\u001b[0m\n\u001b[0;32m     16\u001b[0m \u001b[1;33m\u001b[0m\u001b[0m\n\u001b[1;32m---> 17\u001b[1;33m \u001b[1;32mfor\u001b[0m \u001b[0ml\u001b[0m\u001b[1;33m,\u001b[0m\u001b[0msub_dir\u001b[0m \u001b[1;32min\u001b[0m \u001b[0menumerate\u001b[0m\u001b[1;33m(\u001b[0m\u001b[0mos\u001b[0m\u001b[1;33m.\u001b[0m\u001b[0mlistdir\u001b[0m\u001b[1;33m(\u001b[0m\u001b[0mtrain_directory\u001b[0m\u001b[1;33m)\u001b[0m\u001b[1;33m)\u001b[0m\u001b[1;33m:\u001b[0m\u001b[1;33m\u001b[0m\u001b[1;33m\u001b[0m\u001b[0m\n\u001b[0m\u001b[0;32m     18\u001b[0m     \u001b[1;32mif\u001b[0m \u001b[1;32mnot\u001b[0m \u001b[0msub_dir\u001b[0m \u001b[1;32min\u001b[0m \u001b[0mlabel_dic\u001b[0m\u001b[1;33m:\u001b[0m\u001b[1;33m\u001b[0m\u001b[1;33m\u001b[0m\u001b[0m\n\u001b[0;32m     19\u001b[0m         \u001b[0mlabel_dic\u001b[0m\u001b[1;33m[\u001b[0m\u001b[0msub_dir\u001b[0m\u001b[1;33m]\u001b[0m\u001b[1;33m=\u001b[0m\u001b[0ml\u001b[0m\u001b[1;33m\u001b[0m\u001b[1;33m\u001b[0m\u001b[0m\n",
      "\u001b[1;31mFileNotFoundError\u001b[0m: [WinError 3] The system cannot find the path specified: './data/tiny-imagenet-200/train'"
     ]
    }
   ],
   "source": [
    "#Generate dataset\n",
    "import os\n",
    "import pandas as pd\n",
    "import numpy as np\n",
    "from PIL import Image\n",
    "\n",
    "###### TRAINING DATA #######\n",
    "#Load Training images and labels\n",
    "train_directory = \"./data/tiny-imagenet-200/train\" \n",
    "image_list=[]\n",
    "label_list=[]\n",
    "\n",
    "label_dic={} #convert label str to int from 0 \n",
    "\n",
    "\n",
    "\n",
    "for l,sub_dir in enumerate(os.listdir(train_directory)):\n",
    "    if not sub_dir in label_dic:\n",
    "        label_dic[sub_dir]=l\n",
    "    sub_dir_name=os.path.join(train_directory,sub_dir,'images')\n",
    "    n=0\n",
    "    for file in os.listdir(sub_dir_name):\n",
    "        filename = os.fsdecode(file)\n",
    "        if filename.endswith(\".JPEG\")  or filename.endswith(\".jpg\") or filename.endswith(\".png\"):\n",
    "            img=np.array(Image.open(os.path.join(sub_dir_name,file)))\n",
    "            if(img.shape == (64, 64, 3)): #removing images without 3 channels\n",
    "                image_list.append(img)\n",
    "                label_list.append(int(label_dic[sub_dir]))\n",
    "                n+=1\n",
    "    print(n,'pictures in folder',sub_dir,sep=' ' )\n",
    "            \n",
    "X_tot=np.array(image_list)\n",
    "y_tot=np.array(label_list)\n",
    "\n",
    "###### TEST DATA #######\n",
    "\n",
    "#getting the labels from the txt file\n",
    "df = pd.read_table('./data/tiny-imagenet-200/val/val_annotations.txt', header=None)\n",
    "test_labels={} \n",
    "for index, row in df.iterrows():\n",
    "    test_labels[str(row[0])]= row[1]\n",
    "\n",
    "\n",
    "test_directory = \"./data/tiny-imagenet-200/val/images\" \n",
    "\n",
    "test_image_list=[]\n",
    "test_label_list=[]\n",
    "\n",
    "for file in os.listdir(test_directory):\n",
    "    filename = os.fsdecode(file)\n",
    "  \n",
    "    if filename.endswith(\".JPEG\")  or filename.endswith(\".jpg\") or filename.endswith(\".png\"):\n",
    "        img=np.array(Image.open(os.path.join(test_directory,file)))\n",
    "        if(img.shape == (64, 64, 3)): #removing images without 3 channels\n",
    "            test_image_list.append(img)\n",
    "            test_label_list.append(label_dic[test_labels[filename]])\n",
    "            \n",
    "X_test=np.array(test_image_list)\n",
    "y_test=tf.keras.utils.to_categorical(np.array(test_label_list))"
   ]
  },
  {
   "cell_type": "code",
   "execution_count": null,
   "id": "1df1e044",
   "metadata": {},
   "outputs": [],
   "source": [
    "shuffler=np.random.RandomState(seed=10).permutation(len(X_tot))\n",
    "X_tot = X_tot[shuffler]\n",
    "y_tot = y_tot[shuffler]\n",
    "y_tot=tf.keras.utils.to_categorical(y_tot)\n",
    "\n",
    "X_train = X_tot[5000:]\n",
    "y_train =  y_tot[5000:]\n",
    "X_val = X_tot[:5000]\n",
    "y_val =  y_tot[:5000]\n",
    "\n",
    "\n",
    "print('test data:')\n",
    "print(X_test.shape)\n",
    "print(y_test.shape)\n",
    "\n",
    "print('train data:')\n",
    "print(X_train.shape)\n",
    "print(y_train.shape)\n",
    "\n",
    "print('val data:')\n",
    "print(X_val.shape)\n",
    "print(y_val.shape)"
   ]
  },
  {
   "cell_type": "code",
   "execution_count": null,
   "id": "375a049b",
   "metadata": {},
   "outputs": [],
   "source": []
  }
 ],
 "metadata": {
  "kernelspec": {
   "display_name": "Python 3 (ipykernel)",
   "language": "python",
   "name": "python3"
  },
  "language_info": {
   "codemirror_mode": {
    "name": "ipython",
    "version": 3
   },
   "file_extension": ".py",
   "mimetype": "text/x-python",
   "name": "python",
   "nbconvert_exporter": "python",
   "pygments_lexer": "ipython3",
   "version": "3.7.11"
  }
 },
 "nbformat": 4,
 "nbformat_minor": 5
}
