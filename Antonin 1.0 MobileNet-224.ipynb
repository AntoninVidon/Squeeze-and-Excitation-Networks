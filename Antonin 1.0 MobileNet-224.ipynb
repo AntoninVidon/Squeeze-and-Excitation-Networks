{
 "cells": [
  {
   "cell_type": "markdown",
   "metadata": {},
   "source": [
    "## First shot at MobileNet implementation from scratch"
   ]
  },
  {
   "cell_type": "markdown",
   "metadata": {},
   "source": [
    "source : https://arxiv.org/pdf/1704.04861.pdf"
   ]
  },
  {
   "cell_type": "code",
   "execution_count": 1,
   "metadata": {},
   "outputs": [],
   "source": [
    "# imports\n",
    "import tensorflow as tf\n",
    "import numpy as np"
   ]
  },
  {
   "cell_type": "code",
   "execution_count": 2,
   "metadata": {},
   "outputs": [
    {
     "name": "stdout",
     "output_type": "stream",
     "text": [
      "1 Physical GPUs, 1 Logical GPUs\n"
     ]
    }
   ],
   "source": [
    "gpus = tf.config.list_physical_devices('GPU')\n",
    "if gpus:\n",
    "  try:\n",
    "    # Currently, memory growth needs to be the same across GPUs\n",
    "    for gpu in gpus:\n",
    "      tf.config.experimental.set_memory_growth(gpu, True)\n",
    "    logical_gpus = tf.config.list_logical_devices('GPU')\n",
    "    print(len(gpus), \"Physical GPUs,\", len(logical_gpus), \"Logical GPUs\")\n",
    "  except RuntimeError as e:\n",
    "    # Memory growth must be set before GPUs have been initialized\n",
    "    print(e)"
   ]
  },
  {
   "cell_type": "markdown",
   "metadata": {},
   "source": [
    "### Load CIFAR10 data (32x32x3)"
   ]
  },
  {
   "cell_type": "code",
   "execution_count": 3,
   "metadata": {},
   "outputs": [
    {
     "name": "stdout",
     "output_type": "stream",
     "text": [
      "(50000, 32, 32, 3)\n",
      "(50000, 10)\n",
      "(10000, 32, 32, 3)\n",
      "(10000, 10)\n"
     ]
    }
   ],
   "source": [
    "from tensorflow.keras.utils import to_categorical  \n",
    "\n",
    "#load cifar-10 dataset\n",
    "(x_train, y_train), (x_test, y_test) = tf.keras.datasets.cifar10.load_data()\n",
    "#one hot encoding\n",
    "y_test=to_categorical(y_test, num_classes=10)\n",
    "y_train=to_categorical(y_train, num_classes=10)\n",
    "\n",
    "print(x_train.shape)\n",
    "print(y_train.shape)\n",
    "print(x_test.shape)\n",
    "print(y_test.shape)"
   ]
  },
  {
   "cell_type": "code",
   "execution_count": 4,
   "metadata": {},
   "outputs": [],
   "source": [
    "#shuffle data and split data to generate validation data\n",
    "np.random.seed(42)\n",
    "shuffler = np.random.permutation(len(x_train))\n",
    "x_train_shuffled = x_train[shuffler]\n",
    "y_train_shuffled = y_train[shuffler]\n",
    " \n",
    "\n",
    "#validation data\n",
    "x_val=x_train_shuffled[0:2000]\n",
    "y_val=y_train_shuffled[0:2000]\n",
    "\n",
    "x_train=x_train_shuffled[2000:]\n",
    "y_train=y_train_shuffled[2000:]"
   ]
  },
  {
   "cell_type": "markdown",
   "metadata": {},
   "source": [
    "### Loading preimplemented MobileNet from keras"
   ]
  },
  {
   "cell_type": "code",
   "execution_count": null,
   "metadata": {},
   "outputs": [],
   "source": [
    "MobileNet = tf.keras.applications.mobilenet.MobileNet(\n",
    "                input_shape=[32,32,3], alpha=1.0, depth_multiplier=1, dropout=0.001,\n",
    "                include_top=True, weights=None, input_tensor=None, pooling=None,\n",
    "                classes=10, classifier_activation='softmax'\n",
    "            )"
   ]
  }
 ],
 "metadata": {
  "interpreter": {
   "hash": "da8c0023ff74ef8d09e26e54940a078bc564cf8d82f78ddb00b0fb1fc6cbc7c7"
  },
  "kernelspec": {
   "display_name": "Python 3.6.9 64-bit ('envTF24': venv)",
   "language": "python",
   "name": "python3"
  },
  "language_info": {
   "codemirror_mode": {
    "name": "ipython",
    "version": 3
   },
   "file_extension": ".py",
   "mimetype": "text/x-python",
   "name": "python",
   "nbconvert_exporter": "python",
   "pygments_lexer": "ipython3",
   "version": "3.6.9"
  },
  "orig_nbformat": 4
 },
 "nbformat": 4,
 "nbformat_minor": 2
}
